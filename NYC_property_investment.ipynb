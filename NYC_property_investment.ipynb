{
  "nbformat": 4,
  "nbformat_minor": 0,
  "metadata": {
    "colab": {
      "name": "NYC_property_investment.ipynb",
      "provenance": [],
      "collapsed_sections": [],
      "authorship_tag": "ABX9TyMapaPyS3yjZScuJBpFeMD/",
      "include_colab_link": true
    },
    "kernelspec": {
      "name": "python3",
      "display_name": "Python 3"
    }
  },
  "cells": [
    {
      "cell_type": "markdown",
      "metadata": {
        "id": "view-in-github",
        "colab_type": "text"
      },
      "source": [
        "<a href=\"https://colab.research.google.com/github/mdelretobey/property_investment/blob/main/NYC_property_investment.ipynb\" target=\"_parent\"><img src=\"https://colab.research.google.com/assets/colab-badge.svg\" alt=\"Open In Colab\"/></a>"
      ]
    },
    {
      "cell_type": "code",
      "metadata": {
        "id": "K-PrvuBJqpBs",
        "colab": {
          "base_uri": "https://localhost:8080/"
        },
        "outputId": "60d106fb-3e96-443b-89c8-f7c5d21380a3"
      },
      "source": [
        "import pandas as pd\n",
        "import numpy as np\n",
        "from scipy import stats\n",
        "import math\n",
        "import matplotlib.pyplot as plt\n",
        "import seaborn as sns\n",
        "import statsmodels.stats.multicomp as mc"
      ],
      "execution_count": null,
      "outputs": [
        {
          "output_type": "stream",
          "text": [
            "/usr/local/lib/python3.6/dist-packages/statsmodels/tools/_testing.py:19: FutureWarning: pandas.util.testing is deprecated. Use the functions in the public API at pandas.testing instead.\n",
            "  import pandas.util.testing as tm\n"
          ],
          "name": "stderr"
        }
      ]
    },
    {
      "cell_type": "code",
      "metadata": {
        "colab": {
          "base_uri": "https://localhost:8080/"
        },
        "id": "52Ec2QL8q-E0",
        "outputId": "258a299e-c5ad-4e4d-959b-5a7f3c94f3a8"
      },
      "source": [
        "from google.colab import drive \n",
        "drive.mount('/content/gdrive')"
      ],
      "execution_count": null,
      "outputs": [
        {
          "output_type": "stream",
          "text": [
            "Mounted at /content/gdrive\n"
          ],
          "name": "stdout"
        }
      ]
    },
    {
      "cell_type": "markdown",
      "metadata": {
        "id": "GaUsL3WUkBVc"
      },
      "source": [
        "**Original Data File Found:** https://www.kaggle.com/new-york-city/nyc-property-sales\n",
        "\n",
        "Data consists of two years of sales data for all types of properties in NYC from 2016-2017."
      ]
    },
    {
      "cell_type": "code",
      "metadata": {
        "colab": {
          "base_uri": "https://localhost:8080/",
          "height": 527
        },
        "id": "5XsACr8xtjKt",
        "outputId": "c783a95f-ede5-4ba0-9454-d7313d0d6a73"
      },
      "source": [
        "df = pd.read_csv('/content/gdrive/MyDrive/nyc-rolling-sales-modified.csv')\n",
        "df.head()\n",
        "\n",
        "#downloading csv file to work on in a dataframe and checking that it loaded correctly"
      ],
      "execution_count": null,
      "outputs": [
        {
          "output_type": "execute_result",
          "data": {
            "text/html": [
              "<div>\n",
              "<style scoped>\n",
              "    .dataframe tbody tr th:only-of-type {\n",
              "        vertical-align: middle;\n",
              "    }\n",
              "\n",
              "    .dataframe tbody tr th {\n",
              "        vertical-align: top;\n",
              "    }\n",
              "\n",
              "    .dataframe thead th {\n",
              "        text-align: right;\n",
              "    }\n",
              "</style>\n",
              "<table border=\"1\" class=\"dataframe\">\n",
              "  <thead>\n",
              "    <tr style=\"text-align: right;\">\n",
              "      <th></th>\n",
              "      <th>Unnamed: 0</th>\n",
              "      <th>BOROUGH</th>\n",
              "      <th>NEIGHBORHOOD</th>\n",
              "      <th>BUILDING CLASS CATEGORY</th>\n",
              "      <th>TAX CLASS AT PRESENT</th>\n",
              "      <th>BLOCK</th>\n",
              "      <th>LOT</th>\n",
              "      <th>EASE-MENT</th>\n",
              "      <th>BUILDING CLASS AT PRESENT</th>\n",
              "      <th>ADDRESS</th>\n",
              "      <th>APARTMENT NUMBER</th>\n",
              "      <th>ZIP CODE</th>\n",
              "      <th>RESIDENTIAL UNITS</th>\n",
              "      <th>COMMERCIAL UNITS</th>\n",
              "      <th>TOTAL UNITS</th>\n",
              "      <th>LAND SQUARE FEET</th>\n",
              "      <th>GROSS SQUARE FEET</th>\n",
              "      <th>YEAR BUILT</th>\n",
              "      <th>TAX CLASS AT TIME OF SALE</th>\n",
              "      <th>BUILDING CLASS AT TIME OF SALE</th>\n",
              "      <th>SALE PRICE</th>\n",
              "      <th>SALE DATE</th>\n",
              "      <th>SALE MONTH</th>\n",
              "      <th>SALE QUARTER</th>\n",
              "      <th>Unnamed: 24</th>\n",
              "    </tr>\n",
              "  </thead>\n",
              "  <tbody>\n",
              "    <tr>\n",
              "      <th>0</th>\n",
              "      <td>4</td>\n",
              "      <td>1</td>\n",
              "      <td>ALPHABET CITY</td>\n",
              "      <td>07 RENTALS - WALKUP APARTMENTS</td>\n",
              "      <td>2A</td>\n",
              "      <td>392</td>\n",
              "      <td>6</td>\n",
              "      <td></td>\n",
              "      <td>C2</td>\n",
              "      <td>153 AVENUE B</td>\n",
              "      <td></td>\n",
              "      <td>10009</td>\n",
              "      <td>5</td>\n",
              "      <td>0</td>\n",
              "      <td>5</td>\n",
              "      <td>1633</td>\n",
              "      <td>6440</td>\n",
              "      <td>1900</td>\n",
              "      <td>2</td>\n",
              "      <td>C2</td>\n",
              "      <td>6625000</td>\n",
              "      <td>7/19/2017 0:00</td>\n",
              "      <td>7</td>\n",
              "      <td>Q3</td>\n",
              "      <td>NaN</td>\n",
              "    </tr>\n",
              "    <tr>\n",
              "      <th>1</th>\n",
              "      <td>5</td>\n",
              "      <td>1</td>\n",
              "      <td>ALPHABET CITY</td>\n",
              "      <td>07 RENTALS - WALKUP APARTMENTS</td>\n",
              "      <td>2</td>\n",
              "      <td>399</td>\n",
              "      <td>26</td>\n",
              "      <td></td>\n",
              "      <td>C7</td>\n",
              "      <td>234 EAST 4TH   STREET</td>\n",
              "      <td></td>\n",
              "      <td>10009</td>\n",
              "      <td>28</td>\n",
              "      <td>3</td>\n",
              "      <td>31</td>\n",
              "      <td>4616</td>\n",
              "      <td>18690</td>\n",
              "      <td>1900</td>\n",
              "      <td>2</td>\n",
              "      <td>C7</td>\n",
              "      <td>0</td>\n",
              "      <td>12/14/2016 0:00</td>\n",
              "      <td>7</td>\n",
              "      <td>Q3</td>\n",
              "      <td>NaN</td>\n",
              "    </tr>\n",
              "    <tr>\n",
              "      <th>2</th>\n",
              "      <td>6</td>\n",
              "      <td>1</td>\n",
              "      <td>ALPHABET CITY</td>\n",
              "      <td>07 RENTALS - WALKUP APARTMENTS</td>\n",
              "      <td>2</td>\n",
              "      <td>399</td>\n",
              "      <td>39</td>\n",
              "      <td></td>\n",
              "      <td>C7</td>\n",
              "      <td>197 EAST 3RD   STREET</td>\n",
              "      <td></td>\n",
              "      <td>10009</td>\n",
              "      <td>16</td>\n",
              "      <td>1</td>\n",
              "      <td>17</td>\n",
              "      <td>2212</td>\n",
              "      <td>7803</td>\n",
              "      <td>1900</td>\n",
              "      <td>2</td>\n",
              "      <td>C7</td>\n",
              "      <td>0</td>\n",
              "      <td>12/9/2016 0:00</td>\n",
              "      <td>7</td>\n",
              "      <td>Q3</td>\n",
              "      <td>NaN</td>\n",
              "    </tr>\n",
              "    <tr>\n",
              "      <th>3</th>\n",
              "      <td>7</td>\n",
              "      <td>1</td>\n",
              "      <td>ALPHABET CITY</td>\n",
              "      <td>07 RENTALS - WALKUP APARTMENTS</td>\n",
              "      <td>2B</td>\n",
              "      <td>402</td>\n",
              "      <td>21</td>\n",
              "      <td></td>\n",
              "      <td>C4</td>\n",
              "      <td>154 EAST 7TH STREET</td>\n",
              "      <td></td>\n",
              "      <td>10009</td>\n",
              "      <td>10</td>\n",
              "      <td>0</td>\n",
              "      <td>10</td>\n",
              "      <td>2272</td>\n",
              "      <td>6794</td>\n",
              "      <td>1913</td>\n",
              "      <td>2</td>\n",
              "      <td>C4</td>\n",
              "      <td>3936272</td>\n",
              "      <td>9/23/2016 0:00</td>\n",
              "      <td>7</td>\n",
              "      <td>Q3</td>\n",
              "      <td>NaN</td>\n",
              "    </tr>\n",
              "    <tr>\n",
              "      <th>4</th>\n",
              "      <td>8</td>\n",
              "      <td>1</td>\n",
              "      <td>ALPHABET CITY</td>\n",
              "      <td>07 RENTALS - WALKUP APARTMENTS</td>\n",
              "      <td>2A</td>\n",
              "      <td>404</td>\n",
              "      <td>55</td>\n",
              "      <td></td>\n",
              "      <td>C2</td>\n",
              "      <td>301 EAST 10TH   STREET</td>\n",
              "      <td></td>\n",
              "      <td>10009</td>\n",
              "      <td>6</td>\n",
              "      <td>0</td>\n",
              "      <td>6</td>\n",
              "      <td>2369</td>\n",
              "      <td>4615</td>\n",
              "      <td>1900</td>\n",
              "      <td>2</td>\n",
              "      <td>C2</td>\n",
              "      <td>8000000</td>\n",
              "      <td>11/17/2016 0:00</td>\n",
              "      <td>7</td>\n",
              "      <td>Q3</td>\n",
              "      <td>NaN</td>\n",
              "    </tr>\n",
              "  </tbody>\n",
              "</table>\n",
              "</div>"
            ],
            "text/plain": [
              "   Unnamed: 0  BOROUGH   NEIGHBORHOOD  ... SALE MONTH SALE QUARTER  Unnamed: 24\n",
              "0           4        1  ALPHABET CITY  ...          7           Q3          NaN\n",
              "1           5        1  ALPHABET CITY  ...          7           Q3          NaN\n",
              "2           6        1  ALPHABET CITY  ...          7           Q3          NaN\n",
              "3           7        1  ALPHABET CITY  ...          7           Q3          NaN\n",
              "4           8        1  ALPHABET CITY  ...          7           Q3          NaN\n",
              "\n",
              "[5 rows x 25 columns]"
            ]
          },
          "metadata": {
            "tags": []
          },
          "execution_count": 3
        }
      ]
    },
    {
      "cell_type": "code",
      "metadata": {
        "colab": {
          "base_uri": "https://localhost:8080/"
        },
        "id": "NoLxw_6sRo_N",
        "outputId": "eec778c3-3ce3-45db-c7d0-6233043158f2"
      },
      "source": [
        "df.describe\n",
        "#checking the number of rows and columns"
      ],
      "execution_count": null,
      "outputs": [
        {
          "output_type": "execute_result",
          "data": {
            "text/plain": [
              "<bound method NDFrame.describe of        Unnamed: 0  BOROUGH   NEIGHBORHOOD  ... SALE MONTH SALE QUARTER  Unnamed: 24\n",
              "0               4        1  ALPHABET CITY  ...          7           Q3          NaN\n",
              "1               5        1  ALPHABET CITY  ...          7           Q3          NaN\n",
              "2               6        1  ALPHABET CITY  ...          7           Q3          NaN\n",
              "3               7        1  ALPHABET CITY  ...          7           Q3          NaN\n",
              "4               8        1  ALPHABET CITY  ...          7           Q3          NaN\n",
              "...           ...      ...            ...  ...        ...          ...          ...\n",
              "84543        8409        5        WOODROW  ...          1           Q1          NaN\n",
              "84544        8410        5        WOODROW  ...          1           Q1          NaN\n",
              "84545        8411        5        WOODROW  ...          1           Q1          NaN\n",
              "84546        8412        5        WOODROW  ...          1           Q1          NaN\n",
              "84547        8413        5        WOODROW  ...          1           Q1          NaN\n",
              "\n",
              "[84548 rows x 25 columns]>"
            ]
          },
          "metadata": {
            "tags": []
          },
          "execution_count": 4
        }
      ]
    },
    {
      "cell_type": "code",
      "metadata": {
        "colab": {
          "base_uri": "https://localhost:8080/"
        },
        "id": "bCZiDhP7SW-F",
        "outputId": "9fde1c38-21b7-40d8-cb7e-db14b8526d6d"
      },
      "source": [
        "df.isnull().sum()\n",
        "#checking for null entries and ready to start analysis "
      ],
      "execution_count": null,
      "outputs": [
        {
          "output_type": "execute_result",
          "data": {
            "text/plain": [
              "Unnamed: 0                            0\n",
              "BOROUGH                               0\n",
              "NEIGHBORHOOD                          0\n",
              "BUILDING CLASS CATEGORY               0\n",
              "TAX CLASS AT PRESENT                  0\n",
              "BLOCK                                 0\n",
              "LOT                                   0\n",
              "EASE-MENT                             0\n",
              "BUILDING CLASS AT PRESENT             0\n",
              "ADDRESS                               0\n",
              "APARTMENT NUMBER                      0\n",
              "ZIP CODE                              0\n",
              "RESIDENTIAL UNITS                     0\n",
              "COMMERCIAL UNITS                      0\n",
              "TOTAL UNITS                           0\n",
              "LAND SQUARE FEET                      0\n",
              "GROSS SQUARE FEET                     0\n",
              "YEAR BUILT                            0\n",
              "TAX CLASS AT TIME OF SALE             0\n",
              "BUILDING CLASS AT TIME OF SALE        0\n",
              "SALE PRICE                            0\n",
              "SALE DATE                             0\n",
              "SALE MONTH                            0\n",
              "SALE QUARTER                          0\n",
              "Unnamed: 24                       84548\n",
              "dtype: int64"
            ]
          },
          "metadata": {
            "tags": []
          },
          "execution_count": 5
        }
      ]
    },
    {
      "cell_type": "markdown",
      "metadata": {
        "id": "1f11LMuRjhD6"
      },
      "source": [
        "**First Analysis Question**: Is there a significant variance in the pricing between properties sold in different times of the year? Comparison will be between the four Quarters of each year in the records."
      ]
    },
    {
      "cell_type": "code",
      "metadata": {
        "colab": {
          "base_uri": "https://localhost:8080/"
        },
        "id": "g3U0RMWiUtFl",
        "outputId": "91718542-0a07-42ec-8ddc-f0624b99c2bc"
      },
      "source": [
        "stats.f_oneway(df['SALE PRICE'][df['SALE QUARTER'] == 'Q1'],\n",
        "               df['SALE PRICE'][df['SALE QUARTER'] == 'Q2'],\n",
        "               df['SALE PRICE'][df['SALE QUARTER'] == 'Q3'],\n",
        "               df['SALE PRICE'][df['SALE QUARTER'] == 'Q4'])"
      ],
      "execution_count": null,
      "outputs": [
        {
          "output_type": "execute_result",
          "data": {
            "text/plain": [
              "F_onewayResult(statistic=1.88602550764907, pvalue=0.12949246241244908)"
            ]
          },
          "metadata": {
            "tags": []
          },
          "execution_count": 6
        }
      ]
    },
    {
      "cell_type": "markdown",
      "metadata": {
        "id": "IhVyZbKOkpcK"
      },
      "source": [
        "Not enough data found to determine a significant difference between each quarter without filtering the data. Next step is to check the data to see how it should be filtered."
      ]
    },
    {
      "cell_type": "code",
      "metadata": {
        "colab": {
          "base_uri": "https://localhost:8080/"
        },
        "id": "46HWK9KP0f-1",
        "outputId": "653e544b-bb27-4c61-df7e-2b17dc20bf88"
      },
      "source": [
        "df['SALE PRICE'].describe()"
      ],
      "execution_count": null,
      "outputs": [
        {
          "output_type": "execute_result",
          "data": {
            "text/plain": [
              "count    8.454800e+04\n",
              "mean     1.056623e+06\n",
              "std      1.038794e+07\n",
              "min      0.000000e+00\n",
              "25%      0.000000e+00\n",
              "50%      4.150000e+05\n",
              "75%      8.300000e+05\n",
              "max      2.210000e+09\n",
              "Name: SALE PRICE, dtype: float64"
            ]
          },
          "metadata": {
            "tags": []
          },
          "execution_count": 7
        }
      ]
    },
    {
      "cell_type": "markdown",
      "metadata": {
        "id": "T9iI51oZlzRG"
      },
      "source": [
        "We see the min and the bottom 25% are both 0, upon inspecting the original csv it's found that those are transfers of property or inherited property"
      ]
    },
    {
      "cell_type": "code",
      "metadata": {
        "colab": {
          "base_uri": "https://localhost:8080/"
        },
        "id": "Vm0r1Y7uD3ie",
        "outputId": "66cdf6ea-f7aa-420d-81ed-311f69532d28"
      },
      "source": [
        "#Excluding all values below 1000 to only track true sales \n",
        "c_sale = df[df['SALE PRICE']>1000]\n",
        "print(c_sale.shape)"
      ],
      "execution_count": null,
      "outputs": [
        {
          "output_type": "stream",
          "text": [
            "(58604, 25)\n"
          ],
          "name": "stdout"
        }
      ]
    },
    {
      "cell_type": "markdown",
      "metadata": {
        "id": "J1Zlgl1bmJU0"
      },
      "source": [
        "This cut out about 28,000 rows so it should impact the data so lets try the ANOVA test again"
      ]
    },
    {
      "cell_type": "code",
      "metadata": {
        "colab": {
          "base_uri": "https://localhost:8080/"
        },
        "id": "hKZ5YTjamU4Z",
        "outputId": "46ec2167-2e38-4218-d4a2-2f5f5bf85e6b"
      },
      "source": [
        "stats.f_oneway(c_sale['SALE PRICE'][c_sale['SALE QUARTER'] == 'Q1'],\n",
        "               c_sale['SALE PRICE'][c_sale['SALE QUARTER'] == 'Q2'],\n",
        "               c_sale['SALE PRICE'][c_sale['SALE QUARTER'] == 'Q3'],\n",
        "               c_sale['SALE PRICE'][c_sale['SALE QUARTER'] == 'Q4'])"
      ],
      "execution_count": null,
      "outputs": [
        {
          "output_type": "execute_result",
          "data": {
            "text/plain": [
              "F_onewayResult(statistic=1.969208442837514, pvalue=0.11620447880838634)"
            ]
          },
          "metadata": {
            "tags": []
          },
          "execution_count": 9
        }
      ]
    },
    {
      "cell_type": "markdown",
      "metadata": {
        "id": "tc1ZSZ9nmbWL"
      },
      "source": [
        "Still no significant variance found so lets visualize the data to see if we can figure out why."
      ]
    },
    {
      "cell_type": "code",
      "metadata": {
        "colab": {
          "base_uri": "https://localhost:8080/",
          "height": 627
        },
        "id": "M8Hq69IvGdh1",
        "outputId": "c92b8310-1651-4b5f-9eaf-862d326296dc"
      },
      "source": [
        "fig = plt.figure(figsize= (10, 10))\n",
        "ax = fig.add_subplot(111)\n",
        "\n",
        "ax.set_title(\"Box Plot of Sales by Quarter Greater than 1K\", fontsize= 20)\n",
        "ax.set\n",
        "\n",
        "data = [c_sale['SALE PRICE'][c_sale['SALE QUARTER'] == 'Q1'],\n",
        "        c_sale['SALE PRICE'][c_sale['SALE QUARTER'] == 'Q2'],\n",
        "        c_sale['SALE PRICE'][c_sale['SALE QUARTER'] == 'Q3'],\n",
        "        c_sale['SALE PRICE'][c_sale['SALE QUARTER'] == 'Q4']]\n",
        "\n",
        "ax.get_yaxis().set_major_formatter(plt.FuncFormatter(lambda x, loc: \"{:,}\".format(int(x))))\n",
        "\n",
        "ax.boxplot(data,\n",
        "           labels= ['Q1', 'Q2', 'Q3', 'Q4'],\n",
        "           showmeans= True)\n",
        "\n",
        "plt.xlabel(\"Quarter Sold\")\n",
        "plt.ylabel(\"Sale Price\")\n",
        "\n",
        "plt.show()"
      ],
      "execution_count": null,
      "outputs": [
        {
          "output_type": "display_data",
          "data": {
            "image/png": "[encoded data removed]",
            "text/plain": [
              "<Figure size 720x720 with 1 Axes>"
            ]
          },
          "metadata": {
            "tags": [],
            "needs_background": "light"
          }
        }
      ]
    },
    {
      "cell_type": "markdown",
      "metadata": {
        "id": "xD7YAkComl0J"
      },
      "source": [
        "Some pretty big outliers in the data including one sale that's over 2B"
      ]
    },
    {
      "cell_type": "code",
      "metadata": {
        "colab": {
          "base_uri": "https://localhost:8080/"
        },
        "id": "NZI_SK_LGHRW",
        "outputId": "873a1177-c3f9-428f-958d-4f951ee2f5bc"
      },
      "source": [
        "#limiting the sales to up to 5M to exlcude outliers from the calculations\n",
        "f_sale = c_sale[c_sale['SALE PRICE']<=5000000]\n",
        "print(f_sale.shape)"
      ],
      "execution_count": null,
      "outputs": [
        {
          "output_type": "stream",
          "text": [
            "(56277, 25)\n"
          ],
          "name": "stdout"
        }
      ]
    },
    {
      "cell_type": "markdown",
      "metadata": {
        "id": "wtbLTK7XnF8a"
      },
      "source": [
        "cut out about another 2,000 rows so we can try the ANOVA test once more"
      ]
    },
    {
      "cell_type": "code",
      "metadata": {
        "colab": {
          "base_uri": "https://localhost:8080/"
        },
        "id": "YTrh7K2bh58t",
        "outputId": "ac314c5b-5b66-476b-bd07-c45ed9311ac7"
      },
      "source": [
        "stats.f_oneway(f_sale['SALE PRICE'][f_sale['SALE QUARTER'] == 'Q1'],\n",
        "               f_sale['SALE PRICE'][f_sale['SALE QUARTER'] == 'Q2'],\n",
        "               f_sale['SALE PRICE'][f_sale['SALE QUARTER'] == 'Q3'],\n",
        "               f_sale['SALE PRICE'][f_sale['SALE QUARTER'] == 'Q4'])"
      ],
      "execution_count": null,
      "outputs": [
        {
          "output_type": "execute_result",
          "data": {
            "text/plain": [
              "F_onewayResult(statistic=13.03017304581247, pvalue=1.6714405501976246e-08)"
            ]
          },
          "metadata": {
            "tags": []
          },
          "execution_count": 12
        }
      ]
    },
    {
      "cell_type": "markdown",
      "metadata": {
        "id": "C1z1LW8VnYah"
      },
      "source": [
        "Significant variance found once the limiting factors have been applied of sales prices between 1k and 5M"
      ]
    },
    {
      "cell_type": "code",
      "metadata": {
        "colab": {
          "base_uri": "https://localhost:8080/",
          "height": 183
        },
        "id": "S9bihA1MhHGG",
        "outputId": "b75da4ac-ba2e-485f-ea66-dd928fec542f"
      },
      "source": [
        "#Running Tukey HSD test to determine where the difference is located \n",
        "comp = mc.MultiComparison(f_sale['SALE PRICE'], f_sale['SALE QUARTER'])\n",
        "post_hoc_res = comp.tukeyhsd()\n",
        "post_hoc_res.summary()"
      ],
      "execution_count": null,
      "outputs": [
        {
          "output_type": "execute_result",
          "data": {
            "text/html": [
              "<table class=\"simpletable\">\n",
              "<caption>Multiple Comparison of Means - Tukey HSD, FWER=0.05</caption>\n",
              "<tr>\n",
              "  <th>group1</th> <th>group2</th>  <th>meandiff</th>    <th>p-adj</th>    <th>lower</th>       <th>upper</th>    <th>reject</th>\n",
              "</tr>\n",
              "<tr>\n",
              "    <td>Q1</td>     <td>Q2</td>   <td>-50314.8266</td>  <td>0.001</td> <td>-74412.7231</td> <td>-26216.9302</td>  <td>True</td> \n",
              "</tr>\n",
              "<tr>\n",
              "    <td>Q1</td>     <td>Q3</td>   <td>-27502.6863</td> <td>0.0176</td> <td>-51582.3157</td>  <td>-3423.057</td>   <td>True</td> \n",
              "</tr>\n",
              "<tr>\n",
              "    <td>Q1</td>     <td>Q4</td>    <td>-1702.638</td>    <td>0.9</td>  <td>-25730.967</td>   <td>22325.691</td>   <td>False</td>\n",
              "</tr>\n",
              "<tr>\n",
              "    <td>Q2</td>     <td>Q3</td>   <td>22812.1403</td>  <td>0.0697</td>  <td>-1195.337</td>  <td>46819.6176</td>   <td>False</td>\n",
              "</tr>\n",
              "<tr>\n",
              "    <td>Q2</td>     <td>Q4</td>   <td>48612.1886</td>   <td>0.001</td> <td>24656.1662</td>  <td>72568.2111</td>   <td>True</td> \n",
              "</tr>\n",
              "<tr>\n",
              "    <td>Q3</td>     <td>Q4</td>   <td>25800.0483</td>  <td>0.0288</td>  <td>1862.4012</td>  <td>49737.6954</td>   <td>True</td> \n",
              "</tr>\n",
              "</table>"
            ],
            "text/plain": [
              "<class 'statsmodels.iolib.table.SimpleTable'>"
            ]
          },
          "metadata": {
            "tags": []
          },
          "execution_count": 13
        }
      ]
    },
    {
      "cell_type": "markdown",
      "metadata": {
        "id": "5LbunCx2nzzZ"
      },
      "source": [
        "Accoring to the Tukey test we see a decrease in price from Q1 to Q2 and Q3 and an increase from Q2/3 to Q4. No significant difference found between pricing in Q2 and Q3. From this we can conclude the best time to purchase properties within these pricing limits is Q2-Q3."
      ]
    },
    {
      "cell_type": "code",
      "metadata": {
        "colab": {
          "base_uri": "https://localhost:8080/",
          "height": 627
        },
        "id": "IF2ZdyYNgc_W",
        "outputId": "8658864d-fe7e-419d-8184-afcab07c3f6c"
      },
      "source": [
        "fig = plt.figure(figsize= (10, 10))\n",
        "ax = fig.add_subplot(111)\n",
        "\n",
        "ax.set_title(\"Sales by Quarter Limit 1K-5M\", fontsize= 20)\n",
        "ax.set\n",
        "\n",
        "data = [f_sale['SALE PRICE'][f_sale['SALE QUARTER'] == 'Q1'],\n",
        "        f_sale['SALE PRICE'][f_sale['SALE QUARTER'] == 'Q2'],\n",
        "        f_sale['SALE PRICE'][f_sale['SALE QUARTER'] == 'Q3'],\n",
        "        f_sale['SALE PRICE'][f_sale['SALE QUARTER'] == 'Q4']]\n",
        "\n",
        "ax.get_yaxis().set_major_formatter(plt.FuncFormatter(lambda x, loc: \"{:,}\".format(int(x))))\n",
        "\n",
        "ax.boxplot(data,\n",
        "           labels= ['Q1', 'Q2', 'Q3', 'Q4'],\n",
        "           showmeans= True)\n",
        "\n",
        "plt.xlabel(\"Quarter Sold\")\n",
        "plt.ylabel(\"Sale Price\")\n",
        "\n",
        "plt.show()"
      ],
      "execution_count": null,
      "outputs": [
        {
          "output_type": "display_data",
          "data": {
            "image/png": "[encoded data removed]",
            "text/plain": [
              "<Figure size 720x720 with 1 Axes>"
            ]
          },
          "metadata": {
            "tags": [],
            "needs_background": "light"
          }
        }
      ]
    },
    {
      "cell_type": "markdown",
      "metadata": {
        "id": "rMUq5nMsoepa"
      },
      "source": [
        "Visualization is difficult to see differences but upon close inspection does show Q2/3 being lower than Q1/4"
      ]
    },
    {
      "cell_type": "markdown",
      "metadata": {
        "id": "KY8Y_9iRoxdR"
      },
      "source": [
        "**Second Analysis Question:** Is there a significant difference between the pricing of residential rental properties compared to commercial rental properties? First we will check the types of building classes to determine how to filter the data."
      ]
    },
    {
      "cell_type": "code",
      "metadata": {
        "colab": {
          "base_uri": "https://localhost:8080/"
        },
        "id": "fNC3iWPO76ik",
        "outputId": "d3c4a5f5-8016-4ea3-e948-b98751031427"
      },
      "source": [
        "df['BUILDING CLASS CATEGORY'].unique()"
      ],
      "execution_count": null,
      "outputs": [
        {
          "output_type": "execute_result",
          "data": {
            "text/plain": [
              "array(['07 RENTALS - WALKUP APARTMENTS             ',\n",
              "       '08 RENTALS - ELEVATOR APARTMENTS           ',\n",
              "       '09 COOPS - WALKUP APARTMENTS               ',\n",
              "       '10 COOPS - ELEVATOR APARTMENTS             ',\n",
              "       '11A CONDO-RENTALS                           ',\n",
              "       '12 CONDOS - WALKUP APARTMENTS              ',\n",
              "       '13 CONDOS - ELEVATOR APARTMENTS            ',\n",
              "       '14 RENTALS - 4-10 UNIT                     ',\n",
              "       '15 CONDOS - 2-10 UNIT RESIDENTIAL          ',\n",
              "       '16 CONDOS - 2-10 UNIT WITH COMMERCIAL UNIT ',\n",
              "       '17 CONDO COOPS                             ',\n",
              "       '22 STORE BUILDINGS                         ',\n",
              "       '37 RELIGIOUS FACILITIES                    ',\n",
              "       '42 CONDO CULTURAL/MEDICAL/EDUCATIONAL/ETC  ',\n",
              "       '46 CONDO STORE BUILDINGS                   ',\n",
              "       '47 CONDO NON-BUSINESS STORAGE              ',\n",
              "       '01 ONE FAMILY DWELLINGS                    ',\n",
              "       '02 TWO FAMILY DWELLINGS                    ',\n",
              "       '03 THREE FAMILY DWELLINGS                  ',\n",
              "       '04 TAX CLASS 1 CONDOS                      ',\n",
              "       '21 OFFICE BUILDINGS                        ',\n",
              "       '23 LOFT BUILDINGS                          ',\n",
              "       '25 LUXURY HOTELS                           ',\n",
              "       '26 OTHER HOTELS                            ',\n",
              "       '28 COMMERCIAL CONDOS                       ',\n",
              "       '29 COMMERCIAL GARAGES                      ',\n",
              "       '35 INDOOR PUBLIC AND CULTURAL FACILITIES   ',\n",
              "       '38 ASYLUMS AND HOMES                       ',\n",
              "       '43 CONDO OFFICE BUILDINGS                  ',\n",
              "       '44 CONDO PARKING                           ',\n",
              "       '48 CONDO TERRACES/GARDENS/CABANAS          ',\n",
              "       '31 COMMERCIAL VACANT LAND                  ',\n",
              "       '32 HOSPITAL AND HEALTH FACILITIES          ',\n",
              "       '41 TAX CLASS 4 - OTHER                     ',\n",
              "       '18 TAX CLASS 3 - UNTILITY PROPERTIES       ',\n",
              "       '30 WAREHOUSES                              ',\n",
              "       '36 OUTDOOR RECREATIONAL FACILITIES         ',\n",
              "       '49 CONDO WAREHOUSES/FACTORY/INDUS          ',\n",
              "       '34 THEATRES                                ',\n",
              "       '27 FACTORIES                               ',\n",
              "       '40 SELECTED GOVERNMENTAL FACILITIES        ',\n",
              "       '45 CONDO HOTELS                            ',\n",
              "       '33 EDUCATIONAL FACILITIES                  ',\n",
              "       '11 SPECIAL CONDO BILLING LOTS              ',\n",
              "       '05 TAX CLASS 1 VACANT LAND                 ',\n",
              "       '06 TAX CLASS 1 - OTHER                     ',\n",
              "       '39 TRANSPORTATION FACILITIES               '], dtype=object)"
            ]
          },
          "metadata": {
            "tags": []
          },
          "execution_count": 15
        }
      ]
    },
    {
      "cell_type": "markdown",
      "metadata": {
        "id": "Gk0jle9Cs79h"
      },
      "source": [
        "For the residential portion we will look at one, two, and three family dwellings, class 1 condos, and 2-10 unit condos that are for residential purposes"
      ]
    },
    {
      "cell_type": "code",
      "metadata": {
        "id": "omuFdt8lhZH-"
      },
      "source": [
        "res_rental = df.loc[(df['BUILDING CLASS CATEGORY'] == '01 ONE FAMILY DWELLINGS                    ') | \n",
        "                    (df['BUILDING CLASS CATEGORY'] == '02 TWO FAMILY DWELLINGS                    ') |\n",
        "                    (df['BUILDING CLASS CATEGORY'] == '03 THREE FAMILY DWELLINGS                  ') |\n",
        "                    (df['BUILDING CLASS CATEGORY'] == '04 TAX CLASS 1 CONDOS                      ') |\n",
        "                    (df['BUILDING CLASS CATEGORY'] == '15 CONDOS - 2-10 UNIT RESIDENTIAL          ') ]"
      ],
      "execution_count": null,
      "outputs": []
    },
    {
      "cell_type": "code",
      "metadata": {
        "colab": {
          "base_uri": "https://localhost:8080/"
        },
        "id": "Nt2QcSyfsWs1",
        "outputId": "7532d67f-f8f3-4a4b-e2fb-4f0a96f5457a"
      },
      "source": [
        "#checking for how many entries there are with these filters to make sure it's big enough to work with\n",
        "res_rental.info()"
      ],
      "execution_count": null,
      "outputs": [
        {
          "output_type": "stream",
          "text": [
            "<class 'pandas.core.frame.DataFrame'>\n",
            "Int64Index: 41384 entries, 176 to 84545\n",
            "Data columns (total 25 columns):\n",
            " #   Column                          Non-Null Count  Dtype  \n",
            "---  ------                          --------------  -----  \n",
            " 0   Unnamed: 0                      41384 non-null  int64  \n",
            " 1   BOROUGH                         41384 non-null  int64  \n",
            " 2   NEIGHBORHOOD                    41384 non-null  object \n",
            " 3   BUILDING CLASS CATEGORY         41384 non-null  object \n",
            " 4   TAX CLASS AT PRESENT            41384 non-null  object \n",
            " 5   BLOCK                           41384 non-null  int64  \n",
            " 6   LOT                             41384 non-null  int64  \n",
            " 7   EASE-MENT                       41384 non-null  object \n",
            " 8   BUILDING CLASS AT PRESENT       41384 non-null  object \n",
            " 9   ADDRESS                         41384 non-null  object \n",
            " 10  APARTMENT NUMBER                41384 non-null  object \n",
            " 11  ZIP CODE                        41384 non-null  int64  \n",
            " 12  RESIDENTIAL UNITS               41384 non-null  int64  \n",
            " 13  COMMERCIAL UNITS                41384 non-null  int64  \n",
            " 14  TOTAL UNITS                     41384 non-null  int64  \n",
            " 15  LAND SQUARE FEET                41384 non-null  object \n",
            " 16  GROSS SQUARE FEET               41384 non-null  object \n",
            " 17  YEAR BUILT                      41384 non-null  int64  \n",
            " 18  TAX CLASS AT TIME OF SALE       41384 non-null  int64  \n",
            " 19  BUILDING CLASS AT TIME OF SALE  41384 non-null  object \n",
            " 20  SALE PRICE                      41384 non-null  int64  \n",
            " 21  SALE DATE                       41384 non-null  object \n",
            " 22  SALE MONTH                      41384 non-null  int64  \n",
            " 23  SALE QUARTER                    41384 non-null  object \n",
            " 24  Unnamed: 24                     0 non-null      float64\n",
            "dtypes: float64(1), int64(12), object(12)\n",
            "memory usage: 8.2+ MB\n"
          ],
          "name": "stdout"
        }
      ]
    },
    {
      "cell_type": "code",
      "metadata": {
        "colab": {
          "base_uri": "https://localhost:8080/"
        },
        "id": "MbOvY68EBFac",
        "outputId": "2a6689e4-4aab-4774-c7ef-16b1523a997c"
      },
      "source": [
        "#since we know there are outliers that effect the price from the first question we will apply the same parameters to this comparison for pricing\n",
        "r_rental = res_rental[(res_rental['SALE PRICE'] > 1000) &\n",
        "                      (res_rental['SALE PRICE'] <= 5000000)]\n",
        "r_rental['SALE PRICE'].describe()"
      ],
      "execution_count": null,
      "outputs": [
        {
          "output_type": "execute_result",
          "data": {
            "text/plain": [
              "count    2.696200e+04\n",
              "mean     7.136271e+05\n",
              "std      5.205459e+05\n",
              "min      1.162000e+03\n",
              "25%      4.196660e+05\n",
              "50%      5.870000e+05\n",
              "75%      8.500000e+05\n",
              "max      5.000000e+06\n",
              "Name: SALE PRICE, dtype: float64"
            ]
          },
          "metadata": {
            "tags": []
          },
          "execution_count": 18
        }
      ]
    },
    {
      "cell_type": "markdown",
      "metadata": {
        "id": "s3NtMLPBtv8h"
      },
      "source": [
        "For the commercial end we are going to look at apartment units through rentals and condos and 2-10 unit condos for commercial purposes"
      ]
    },
    {
      "cell_type": "code",
      "metadata": {
        "id": "IhEupWTVABac"
      },
      "source": [
        "comm_rental = df.loc[(df['BUILDING CLASS CATEGORY'] == '07 RENTALS - WALKUP APARTMENTS             ') | \n",
        "                     (df['BUILDING CLASS CATEGORY'] == '08 RENTALS - ELEVATOR APARTMENTS           ') |\n",
        "                     (df['BUILDING CLASS CATEGORY'] == '12 CONDOS - WALKUP APARTMENTS              ') |\n",
        "                     (df['BUILDING CLASS CATEGORY'] == '13 CONDOS - ELEVATOR APARTMENTS            ') |\n",
        "                     (df['BUILDING CLASS CATEGORY'] == '16 CONDOS - 2-10 UNIT WITH COMMERCIAL UNIT ') ]"
      ],
      "execution_count": null,
      "outputs": []
    },
    {
      "cell_type": "code",
      "metadata": {
        "colab": {
          "base_uri": "https://localhost:8080/"
        },
        "id": "OgnR0QiyAzsE",
        "outputId": "bebd43c4-d936-40da-93ab-6a3183cabf6c"
      },
      "source": [
        "#checking that there are enough entries again\n",
        "comm_rental.info()"
      ],
      "execution_count": null,
      "outputs": [
        {
          "output_type": "stream",
          "text": [
            "<class 'pandas.core.frame.DataFrame'>\n",
            "Int64Index: 17859 entries, 0 to 84170\n",
            "Data columns (total 25 columns):\n",
            " #   Column                          Non-Null Count  Dtype  \n",
            "---  ------                          --------------  -----  \n",
            " 0   Unnamed: 0                      17859 non-null  int64  \n",
            " 1   BOROUGH                         17859 non-null  int64  \n",
            " 2   NEIGHBORHOOD                    17859 non-null  object \n",
            " 3   BUILDING CLASS CATEGORY         17859 non-null  object \n",
            " 4   TAX CLASS AT PRESENT            17859 non-null  object \n",
            " 5   BLOCK                           17859 non-null  int64  \n",
            " 6   LOT                             17859 non-null  int64  \n",
            " 7   EASE-MENT                       17859 non-null  object \n",
            " 8   BUILDING CLASS AT PRESENT       17859 non-null  object \n",
            " 9   ADDRESS                         17859 non-null  object \n",
            " 10  APARTMENT NUMBER                17859 non-null  object \n",
            " 11  ZIP CODE                        17859 non-null  int64  \n",
            " 12  RESIDENTIAL UNITS               17859 non-null  int64  \n",
            " 13  COMMERCIAL UNITS                17859 non-null  int64  \n",
            " 14  TOTAL UNITS                     17859 non-null  int64  \n",
            " 15  LAND SQUARE FEET                17859 non-null  object \n",
            " 16  GROSS SQUARE FEET               17859 non-null  object \n",
            " 17  YEAR BUILT                      17859 non-null  int64  \n",
            " 18  TAX CLASS AT TIME OF SALE       17859 non-null  int64  \n",
            " 19  BUILDING CLASS AT TIME OF SALE  17859 non-null  object \n",
            " 20  SALE PRICE                      17859 non-null  int64  \n",
            " 21  SALE DATE                       17859 non-null  object \n",
            " 22  SALE MONTH                      17859 non-null  int64  \n",
            " 23  SALE QUARTER                    17859 non-null  object \n",
            " 24  Unnamed: 24                     0 non-null      float64\n",
            "dtypes: float64(1), int64(12), object(12)\n",
            "memory usage: 3.5+ MB\n"
          ],
          "name": "stdout"
        }
      ]
    },
    {
      "cell_type": "code",
      "metadata": {
        "colab": {
          "base_uri": "https://localhost:8080/"
        },
        "id": "klNpX4bfBqgc",
        "outputId": "47883346-be58-4470-8aae-42e361d2a5a4"
      },
      "source": [
        "#applying the same parameters as the first part of the comparison\n",
        "c_rental = comm_rental[(comm_rental['SALE PRICE'] > 1000) &\n",
        "                       (comm_rental['SALE PRICE'] <= 5000000)]\n",
        "c_rental['SALE PRICE'].describe()"
      ],
      "execution_count": null,
      "outputs": [
        {
          "output_type": "execute_result",
          "data": {
            "text/plain": [
              "count    1.152100e+04\n",
              "mean     1.345803e+06\n",
              "std      1.028855e+06\n",
              "min      1.175000e+03\n",
              "25%      6.350000e+05\n",
              "50%      9.970000e+05\n",
              "75%      1.735876e+06\n",
              "max      5.000000e+06\n",
              "Name: SALE PRICE, dtype: float64"
            ]
          },
          "metadata": {
            "tags": []
          },
          "execution_count": 21
        }
      ]
    },
    {
      "cell_type": "code",
      "metadata": {
        "colab": {
          "base_uri": "https://localhost:8080/"
        },
        "id": "PWtP28W4C-1e",
        "outputId": "b4072f3d-059b-4e12-c976-d9c614844ca7"
      },
      "source": [
        "stats.ttest_ind(r_rental['SALE PRICE'], c_rental['SALE PRICE'])"
      ],
      "execution_count": null,
      "outputs": [
        {
          "output_type": "execute_result",
          "data": {
            "text/plain": [
              "Ttest_indResult(statistic=-79.78675038207379, pvalue=0.0)"
            ]
          },
          "metadata": {
            "tags": []
          },
          "execution_count": 22
        }
      ]
    },
    {
      "cell_type": "markdown",
      "metadata": {
        "id": "AVdUKBPSuHq7"
      },
      "source": [
        "Found significant difference at the 95% level between the two sales comparisons. Going to check confidence interval to determine where that difference lies."
      ]
    },
    {
      "cell_type": "code",
      "metadata": {
        "colab": {
          "base_uri": "https://localhost:8080/",
          "height": 35
        },
        "id": "Zkl4bczUOp08",
        "outputId": "f865d6c0-806a-4d52-f311-57013b6ccff0"
      },
      "source": [
        "def get_95_ci(array_1, array_2):\n",
        "    sample_1_n = array_1.shape[0]\n",
        "    sample_2_n = array_2.shape[0]\n",
        "    sample_1_mean = array_1.mean()\n",
        "    sample_2_mean = array_2.mean()\n",
        "    sample_1_var = array_1.var()\n",
        "    sample_2_var = array_2.var()\n",
        "    mean_difference = sample_2_mean - sample_1_mean\n",
        "    std_err_difference = math.sqrt((sample_1_var/sample_1_n)+(sample_2_var/sample_2_n))\n",
        "    margin_of_error = 1.96 * std_err_difference\n",
        "    ci_lower = mean_difference - margin_of_error\n",
        "    ci_upper = mean_difference + margin_of_error\n",
        "    return(\"The difference in means at the 95% confidence interval (two-tail) is between \"+str(ci_lower)+\" and \"+str(ci_upper)+\".\")\n",
        "\n",
        "get_95_ci(r_rental['SALE PRICE'], c_rental['SALE PRICE'])"
      ],
      "execution_count": null,
      "outputs": [
        {
          "output_type": "execute_result",
          "data": {
            "application/vnd.google.colaboratory.intrinsic+json": {
              "type": "string"
            },
            "text/plain": [
              "'The difference in means at the 95% confidence interval (two-tail) is between 612387.9252968371 and 651964.2899631372.'"
            ]
          },
          "metadata": {
            "tags": []
          },
          "execution_count": 23
        }
      ]
    },
    {
      "cell_type": "markdown",
      "metadata": {
        "id": "ElKTak3Luo8p"
      },
      "source": [
        "with 95% confidence interval we can determine that the commercial properties are about 600k-650k more expensive on average"
      ]
    },
    {
      "cell_type": "code",
      "metadata": {
        "colab": {
          "base_uri": "https://localhost:8080/",
          "height": 350
        },
        "id": "0Z_xE2u9jp0K",
        "outputId": "ffbf497d-bbbe-401d-c967-085cbe0bb7c2"
      },
      "source": [
        "ax = sns.distplot(r_rental['SALE PRICE'])\n",
        "\n",
        "ax.set_title(\"Sales of Residential Properties 1K-5M\", fontsize= 14 )\n",
        "ax.set\n",
        "\n",
        "ax.get_xaxis().set_major_formatter(plt.FuncFormatter(lambda x, loc: \"{:,}\".format(int(x))))"
      ],
      "execution_count": null,
      "outputs": [
        {
          "output_type": "stream",
          "text": [
            "/usr/local/lib/python3.6/dist-packages/seaborn/distributions.py:2551: FutureWarning: `distplot` is a deprecated function and will be removed in a future version. Please adapt your code to use either `displot` (a figure-level function with similar flexibility) or `histplot` (an axes-level function for histograms).\n",
            "  warnings.warn(msg, FutureWarning)\n"
          ],
          "name": "stderr"
        },
        {
          "output_type": "display_data",
          "data": {
            "image/png": "[encoded data removed]",
            "text/plain": [
              "<Figure size 432x288 with 1 Axes>"
            ]
          },
          "metadata": {
            "tags": [],
            "needs_background": "light"
          }
        }
      ]
    },
    {
      "cell_type": "code",
      "metadata": {
        "colab": {
          "base_uri": "https://localhost:8080/",
          "height": 350
        },
        "id": "FgMBf4L-kdPS",
        "outputId": "300d5ec1-3933-44f8-ae4c-168db38410fc"
      },
      "source": [
        "ax = sns.distplot(c_rental['SALE PRICE'])\n",
        "\n",
        "ax.set_title(\"Sales of Commercial Properties 1K-5M\", fontsize= 14 )\n",
        "ax.set\n",
        "\n",
        "ax.get_xaxis().set_major_formatter(plt.FuncFormatter(lambda x, loc: \"{:,}\".format(int(x))))"
      ],
      "execution_count": null,
      "outputs": [
        {
          "output_type": "stream",
          "text": [
            "/usr/local/lib/python3.6/dist-packages/seaborn/distributions.py:2551: FutureWarning: `distplot` is a deprecated function and will be removed in a future version. Please adapt your code to use either `displot` (a figure-level function with similar flexibility) or `histplot` (an axes-level function for histograms).\n",
            "  warnings.warn(msg, FutureWarning)\n"
          ],
          "name": "stderr"
        },
        {
          "output_type": "display_data",
          "data": {
            "image/png": "[encoded data removed]",
            "text/plain": [
              "<Figure size 432x288 with 1 Axes>"
            ]
          },
          "metadata": {
            "tags": [],
            "needs_background": "light"
          }
        }
      ]
    },
    {
      "cell_type": "markdown",
      "metadata": {
        "id": "hh-ZiWJMu7Pt"
      },
      "source": [
        "**Combining First Two Questions:** Is there a best time of year to buy residential or commercial properties?"
      ]
    },
    {
      "cell_type": "code",
      "metadata": {
        "colab": {
          "base_uri": "https://localhost:8080/"
        },
        "id": "j18tTt9XgGDh",
        "outputId": "60c5536f-002a-4d42-c642-3f56bd60700e"
      },
      "source": [
        "stats.f_oneway(r_rental['SALE PRICE'][r_rental['SALE QUARTER'] == 'Q1'],\n",
        "               r_rental['SALE PRICE'][r_rental['SALE QUARTER'] == 'Q2'],\n",
        "               r_rental['SALE PRICE'][r_rental['SALE QUARTER'] == 'Q3'],\n",
        "               r_rental['SALE PRICE'][r_rental['SALE QUARTER'] == 'Q4'])"
      ],
      "execution_count": null,
      "outputs": [
        {
          "output_type": "execute_result",
          "data": {
            "text/plain": [
              "F_onewayResult(statistic=5.018668823707678, pvalue=0.001772677199688095)"
            ]
          },
          "metadata": {
            "tags": []
          },
          "execution_count": 24
        }
      ]
    },
    {
      "cell_type": "code",
      "metadata": {
        "colab": {
          "base_uri": "https://localhost:8080/",
          "height": 183
        },
        "id": "OQf4dlS9gnPS",
        "outputId": "f4f243bc-51db-4739-a9b2-b4e5b353c551"
      },
      "source": [
        "comp = mc.MultiComparison(r_rental['SALE PRICE'], r_rental['SALE QUARTER'])\n",
        "post_hoc_res = comp.tukeyhsd()\n",
        "post_hoc_res.summary()"
      ],
      "execution_count": null,
      "outputs": [
        {
          "output_type": "execute_result",
          "data": {
            "text/html": [
              "<table class=\"simpletable\">\n",
              "<caption>Multiple Comparison of Means - Tukey HSD, FWER=0.05</caption>\n",
              "<tr>\n",
              "  <th>group1</th> <th>group2</th>  <th>meandiff</th>    <th>p-adj</th>    <th>lower</th>       <th>upper</th>    <th>reject</th>\n",
              "</tr>\n",
              "<tr>\n",
              "    <td>Q1</td>     <td>Q2</td>   <td>19037.5053</td>   <td>0.154</td> <td>-4283.3441</td>  <td>42358.3548</td>   <td>False</td>\n",
              "</tr>\n",
              "<tr>\n",
              "    <td>Q1</td>     <td>Q3</td>    <td>2495.4668</td>    <td>0.9</td>  <td>-20508.9857</td> <td>25499.9193</td>   <td>False</td>\n",
              "</tr>\n",
              "<tr>\n",
              "    <td>Q1</td>     <td>Q4</td>   <td>-15719.3443</td> <td>0.2958</td> <td>-38737.6411</td>  <td>7298.9526</td>   <td>False</td>\n",
              "</tr>\n",
              "<tr>\n",
              "    <td>Q2</td>     <td>Q3</td>   <td>-16542.0385</td> <td>0.2532</td> <td>-39601.2641</td>  <td>6517.187</td>    <td>False</td>\n",
              "</tr>\n",
              "<tr>\n",
              "    <td>Q2</td>     <td>Q4</td>   <td>-34756.8496</td>  <td>0.001</td> <td>-57829.8867</td> <td>-11683.8125</td>  <td>True</td> \n",
              "</tr>\n",
              "<tr>\n",
              "    <td>Q3</td>     <td>Q4</td>   <td>-18214.8111</td> <td>0.1677</td> <td>-40968.0055</td>  <td>4538.3833</td>   <td>False</td>\n",
              "</tr>\n",
              "</table>"
            ],
            "text/plain": [
              "<class 'statsmodels.iolib.table.SimpleTable'>"
            ]
          },
          "metadata": {
            "tags": []
          },
          "execution_count": 25
        }
      ]
    },
    {
      "cell_type": "code",
      "metadata": {
        "colab": {
          "base_uri": "https://localhost:8080/",
          "height": 625
        },
        "id": "kCq3-1jQg3QJ",
        "outputId": "498e5e43-e215-48fd-bc60-60a618f393d3"
      },
      "source": [
        "fig = plt.figure(figsize= (10, 10))\n",
        "ax = fig.add_subplot(111)\n",
        "\n",
        "ax.set_title(\"Sales by Quarter Limit 1K-5M Residential Properties\", fontsize= 18)\n",
        "ax.set\n",
        "\n",
        "data = [r_rental['SALE PRICE'][r_rental['SALE QUARTER'] == 'Q1'],\n",
        "        r_rental['SALE PRICE'][r_rental['SALE QUARTER'] == 'Q2'],\n",
        "        r_rental['SALE PRICE'][r_rental['SALE QUARTER'] == 'Q3'],\n",
        "        r_rental['SALE PRICE'][r_rental['SALE QUARTER'] == 'Q4']]\n",
        "\n",
        "ax.get_yaxis().set_major_formatter(plt.FuncFormatter(lambda x, loc: \"{:,}\".format(int(x))))\n",
        "\n",
        "ax.boxplot(data,\n",
        "           labels= ['Q1', 'Q2', 'Q3', 'Q4'],\n",
        "           showmeans= True)\n",
        "\n",
        "\n",
        "#ax.ticklabel_format(axis= 'y',style='plain')\n",
        "\n",
        "plt.xlabel(\"Quarter Sold\")\n",
        "plt.ylabel(\"Sale Price\")\n",
        "\n",
        "plt.show()"
      ],
      "execution_count": null,
      "outputs": [
        {
          "output_type": "display_data",
          "data": {
            "image/png": "[encoded data removed]",
            "text/plain": [
              "<Figure size 720x720 with 1 Axes>"
            ]
          },
          "metadata": {
            "tags": [],
            "needs_background": "light"
          }
        }
      ]
    },
    {
      "cell_type": "markdown",
      "metadata": {
        "id": "tr3m3OBCvcGZ"
      },
      "source": [
        "For residential properties it looks like Q4 is the best time on average to purchase."
      ]
    },
    {
      "cell_type": "code",
      "metadata": {
        "colab": {
          "base_uri": "https://localhost:8080/"
        },
        "id": "lUWMGiDMhK1K",
        "outputId": "6712e9c4-9058-442f-8c1f-d7ec5b1ae5af"
      },
      "source": [
        "stats.f_oneway(c_rental['SALE PRICE'][c_rental['SALE QUARTER'] == 'Q1'],\n",
        "               c_rental['SALE PRICE'][c_rental['SALE QUARTER'] == 'Q2'],\n",
        "               c_rental['SALE PRICE'][c_rental['SALE QUARTER'] == 'Q3'],\n",
        "               c_rental['SALE PRICE'][c_rental['SALE QUARTER'] == 'Q4'])"
      ],
      "execution_count": null,
      "outputs": [
        {
          "output_type": "execute_result",
          "data": {
            "text/plain": [
              "F_onewayResult(statistic=9.927767535713642, pvalue=1.5605846592822897e-06)"
            ]
          },
          "metadata": {
            "tags": []
          },
          "execution_count": 27
        }
      ]
    },
    {
      "cell_type": "code",
      "metadata": {
        "colab": {
          "base_uri": "https://localhost:8080/",
          "height": 183
        },
        "id": "7-qZlAXLhQhx",
        "outputId": "56db2934-fc27-4972-e8b4-6152afdb58f0"
      },
      "source": [
        "comp = mc.MultiComparison(c_rental['SALE PRICE'], c_rental['SALE QUARTER'])\n",
        "post_hoc_res = comp.tukeyhsd()\n",
        "post_hoc_res.summary()"
      ],
      "execution_count": null,
      "outputs": [
        {
          "output_type": "execute_result",
          "data": {
            "text/html": [
              "<table class=\"simpletable\">\n",
              "<caption>Multiple Comparison of Means - Tukey HSD, FWER=0.05</caption>\n",
              "<tr>\n",
              "  <th>group1</th> <th>group2</th>   <th>meandiff</th>    <th>p-adj</th>     <th>lower</th>       <th>upper</th>    <th>reject</th>\n",
              "</tr>\n",
              "<tr>\n",
              "    <td>Q1</td>     <td>Q2</td>   <td>-121304.8873</td>  <td>0.001</td> <td>-188761.0302</td> <td>-53848.7444</td>  <td>True</td> \n",
              "</tr>\n",
              "<tr>\n",
              "    <td>Q1</td>     <td>Q3</td>    <td>-23628.1159</td> <td>0.7965</td>  <td>-93366.6163</td> <td>46110.3845</td>   <td>False</td>\n",
              "</tr>\n",
              "<tr>\n",
              "    <td>Q1</td>     <td>Q4</td>     <td>7210.732</td>     <td>0.9</td>   <td>-61905.4004</td> <td>76326.8645</td>   <td>False</td>\n",
              "</tr>\n",
              "<tr>\n",
              "    <td>Q2</td>     <td>Q3</td>    <td>97676.7714</td>  <td>0.0021</td>  <td>27328.9952</td>  <td>168024.5477</td>  <td>True</td> \n",
              "</tr>\n",
              "<tr>\n",
              "    <td>Q2</td>     <td>Q4</td>    <td>128515.6193</td>  <td>0.001</td>  <td>58784.7729</td>  <td>198246.4658</td>  <td>True</td> \n",
              "</tr>\n",
              "<tr>\n",
              "    <td>Q3</td>     <td>Q4</td>    <td>30838.8479</td>  <td>0.6669</td>  <td>-41102.2264</td> <td>102779.9222</td>  <td>False</td>\n",
              "</tr>\n",
              "</table>"
            ],
            "text/plain": [
              "<class 'statsmodels.iolib.table.SimpleTable'>"
            ]
          },
          "metadata": {
            "tags": []
          },
          "execution_count": 28
        }
      ]
    },
    {
      "cell_type": "code",
      "metadata": {
        "colab": {
          "base_uri": "https://localhost:8080/",
          "height": 625
        },
        "id": "RgyFo8BBhU7y",
        "outputId": "7304e66d-6a85-4b16-b24b-e71cffa6ec60"
      },
      "source": [
        "fig = plt.figure(figsize= (10, 10))\n",
        "ax = fig.add_subplot(111)\n",
        "\n",
        "ax.set_title(\"Sales by Quarter Limit 1K-5M Commercial Properties\", fontsize= 18)\n",
        "ax.set\n",
        "\n",
        "data = [c_rental['SALE PRICE'][c_rental['SALE QUARTER'] == 'Q1'],\n",
        "        c_rental['SALE PRICE'][c_rental['SALE QUARTER'] == 'Q2'],\n",
        "        c_rental['SALE PRICE'][c_rental['SALE QUARTER'] == 'Q3'],\n",
        "        c_rental['SALE PRICE'][c_rental['SALE QUARTER'] == 'Q4']]\n",
        "\n",
        "ax.get_yaxis().set_major_formatter(plt.FuncFormatter(lambda x, loc: \"{:,}\".format(int(x))))\n",
        "\n",
        "ax.boxplot(data,\n",
        "           labels= ['Q1', 'Q2', 'Q3', 'Q4'],\n",
        "           showmeans= True)\n",
        "\n",
        "\n",
        "#ax.ticklabel_format(axis= 'y',style='plain')\n",
        "\n",
        "plt.xlabel(\"Quarter Sold\")\n",
        "plt.ylabel(\"Sale Price\")\n",
        "\n",
        "plt.show()"
      ],
      "execution_count": null,
      "outputs": [
        {
          "output_type": "display_data",
          "data": {
            "image/png": "[encoded data removed]",
            "text/plain": [
              "<Figure size 720x720 with 1 Axes>"
            ]
          },
          "metadata": {
            "tags": [],
            "needs_background": "light"
          }
        }
      ]
    },
    {
      "cell_type": "markdown",
      "metadata": {
        "id": "WZE8zFFavlDw"
      },
      "source": [
        "For commercial properties we have the most visible variance with Q2 being the best time to purchase new properties"
      ]
    },
    {
      "cell_type": "markdown",
      "metadata": {
        "id": "h2iMm_8vwKDc"
      },
      "source": [
        "**Third Research Question:** Does the age of the property have an effect on it's sales price.  First lets check what the average age is."
      ]
    },
    {
      "cell_type": "code",
      "metadata": {
        "colab": {
          "base_uri": "https://localhost:8080/"
        },
        "id": "Sp8_EHO3xatd",
        "outputId": "a4a4e455-4c97-47b4-c640-3f0e9983c6c0"
      },
      "source": [
        "df['YEAR BUILT'].describe()"
      ],
      "execution_count": null,
      "outputs": [
        {
          "output_type": "execute_result",
          "data": {
            "text/plain": [
              "count    84548.000000\n",
              "mean      1789.322976\n",
              "std        537.344993\n",
              "min          0.000000\n",
              "25%       1920.000000\n",
              "50%       1940.000000\n",
              "75%       1965.000000\n",
              "max       2017.000000\n",
              "Name: YEAR BUILT, dtype: float64"
            ]
          },
          "metadata": {
            "tags": []
          },
          "execution_count": 30
        }
      ]
    },
    {
      "cell_type": "markdown",
      "metadata": {
        "id": "AQlCkuZUwsgR"
      },
      "source": [
        "Since the min is 0 and the mean is so low we might be seeing a similar feature to the 0 cost sales. Lets visualize it."
      ]
    },
    {
      "cell_type": "code",
      "metadata": {
        "colab": {
          "base_uri": "https://localhost:8080/",
          "height": 333
        },
        "id": "N8pMuJvd1Xdd",
        "outputId": "81ca8206-baa5-4a78-d2e4-aeade6f02f90"
      },
      "source": [
        "ax = sns.distplot(df['YEAR BUILT'])"
      ],
      "execution_count": null,
      "outputs": [
        {
          "output_type": "stream",
          "text": [
            "/usr/local/lib/python3.6/dist-packages/seaborn/distributions.py:2551: FutureWarning: `distplot` is a deprecated function and will be removed in a future version. Please adapt your code to use either `displot` (a figure-level function with similar flexibility) or `histplot` (an axes-level function for histograms).\n",
            "  warnings.warn(msg, FutureWarning)\n"
          ],
          "name": "stderr"
        },
        {
          "output_type": "display_data",
          "data": {
            "image/png": "[encoded data removed]",
            "text/plain": [
              "<Figure size 432x288 with 1 Axes>"
            ]
          },
          "metadata": {
            "tags": [],
            "needs_background": "light"
          }
        }
      ]
    },
    {
      "cell_type": "markdown",
      "metadata": {
        "id": "UrBBB6Ytw88C"
      },
      "source": [
        "Quite a few 0 entries so I will filter those out by only looking at properties built from 1900 to present and apply the same pricing filters we have been using on the other models."
      ]
    },
    {
      "cell_type": "code",
      "metadata": {
        "colab": {
          "base_uri": "https://localhost:8080/"
        },
        "id": "-wjp3Z9vxyJ7",
        "outputId": "30228a1b-d860-4c6f-a451-11bb48f238a5"
      },
      "source": [
        "p_age = df[(df['YEAR BUILT'] >= 1900) &\n",
        "           (df['SALE PRICE'] > 1000) &\n",
        "           (df['SALE PRICE'] <=5000000)]\n",
        "p_age['YEAR BUILT'].describe()"
      ],
      "execution_count": null,
      "outputs": [
        {
          "output_type": "execute_result",
          "data": {
            "text/plain": [
              "count    51067.000000\n",
              "mean      1952.382184\n",
              "std         32.917691\n",
              "min       1900.000000\n",
              "25%       1925.000000\n",
              "50%       1950.000000\n",
              "75%       1972.000000\n",
              "max       2017.000000\n",
              "Name: YEAR BUILT, dtype: float64"
            ]
          },
          "metadata": {
            "tags": []
          },
          "execution_count": 32
        }
      ]
    },
    {
      "cell_type": "code",
      "metadata": {
        "colab": {
          "base_uri": "https://localhost:8080/",
          "height": 333
        },
        "id": "IGFRTLWK6sMg",
        "outputId": "be39036c-ce2f-4c80-dc33-b7e9a21748c3"
      },
      "source": [
        "ax = sns.distplot(p_age['YEAR BUILT'])"
      ],
      "execution_count": null,
      "outputs": [
        {
          "output_type": "stream",
          "text": [
            "/usr/local/lib/python3.6/dist-packages/seaborn/distributions.py:2551: FutureWarning: `distplot` is a deprecated function and will be removed in a future version. Please adapt your code to use either `displot` (a figure-level function with similar flexibility) or `histplot` (an axes-level function for histograms).\n",
            "  warnings.warn(msg, FutureWarning)\n"
          ],
          "name": "stderr"
        },
        {
          "output_type": "display_data",
          "data": {
            "image/png": "[encoded data removed]",
            "text/plain": [
              "<Figure size 432x288 with 1 Axes>"
            ]
          },
          "metadata": {
            "tags": [],
            "needs_background": "light"
          }
        }
      ]
    },
    {
      "cell_type": "markdown",
      "metadata": {
        "id": "GNHadWQFxMuF"
      },
      "source": [
        "Once the filters have been applied we see a much more realistic distribution of property ages and the mean age of properties is 1952 so that will be our seperating point in comparing older properties to newer ones."
      ]
    },
    {
      "cell_type": "code",
      "metadata": {
        "colab": {
          "base_uri": "https://localhost:8080/"
        },
        "id": "cxkbA4Tjymnt",
        "outputId": "bbd60856-9fb0-4e2c-cb29-c4be340faf66"
      },
      "source": [
        "p_age_old = p_age[p_age['YEAR BUILT'] < 1952]\n",
        "p_age_new = p_age[p_age['YEAR BUILT'] >= 1952]\n",
        "stats.ttest_ind(p_age_old['SALE PRICE'], p_age_new['SALE PRICE'])"
      ],
      "execution_count": null,
      "outputs": [
        {
          "output_type": "execute_result",
          "data": {
            "text/plain": [
              "Ttest_indResult(statistic=5.623155873919119, pvalue=1.8847731270271357e-08)"
            ]
          },
          "metadata": {
            "tags": []
          },
          "execution_count": 34
        }
      ]
    },
    {
      "cell_type": "markdown",
      "metadata": {
        "id": "E8fOiQRL17z7"
      },
      "source": [
        "Significant difference found at the 95% confidence level so lets visualize that and look at the expected price difference"
      ]
    },
    {
      "cell_type": "code",
      "metadata": {
        "colab": {
          "base_uri": "https://localhost:8080/",
          "height": 627
        },
        "id": "6QjS9FCp4PR_",
        "outputId": "ba3e2c45-ffdf-4d25-f98c-07d9639b4351"
      },
      "source": [
        "fig = plt.figure(figsize= (10, 10))\n",
        "ax = fig.add_subplot(111)\n",
        "\n",
        "ax.set_title(\"Box Plot of Sales by Age Limit 1K-5M Sale Price\", fontsize= 20)\n",
        "ax.set\n",
        "\n",
        "data = [p_age_old['SALE PRICE'], \n",
        "        p_age_new['SALE PRICE']]\n",
        "\n",
        "ax.get_yaxis().set_major_formatter(plt.FuncFormatter(lambda x, loc: \"{:,}\".format(int(x))))\n",
        "\n",
        "ax.boxplot(data,\n",
        "           labels= ['<1952', '>=1952'],\n",
        "           showmeans= True)\n",
        "\n",
        "\n",
        "#ax.ticklabel_format(axis= 'y',style='plain')\n",
        "\n",
        "plt.xlabel(\"Age of Property\")\n",
        "plt.ylabel(\"Sale Price\")\n",
        "\n",
        "plt.show()"
      ],
      "execution_count": null,
      "outputs": [
        {
          "output_type": "display_data",
          "data": {
            "image/png": "[encoded data removed]",
            "text/plain": [
              "<Figure size 720x720 with 1 Axes>"
            ]
          },
          "metadata": {
            "tags": [],
            "needs_background": "light"
          }
        }
      ]
    },
    {
      "cell_type": "code",
      "metadata": {
        "colab": {
          "base_uri": "https://localhost:8080/",
          "height": 35
        },
        "id": "h_HLV95GizkJ",
        "outputId": "e3af845e-df9e-4a00-eea4-16dbfbfe3046"
      },
      "source": [
        "get_95_ci(p_age_old['SALE PRICE'], p_age_new['SALE PRICE'])"
      ],
      "execution_count": null,
      "outputs": [
        {
          "output_type": "execute_result",
          "data": {
            "application/vnd.google.colaboratory.intrinsic+json": {
              "type": "string"
            },
            "text/plain": [
              "'The difference in means at the 95% confidence interval (two-tail) is between -51191.19492331517 and -24772.45204889195.'"
            ]
          },
          "metadata": {
            "tags": []
          },
          "execution_count": 36
        }
      ]
    },
    {
      "cell_type": "markdown",
      "metadata": {
        "id": "3G3Vtx8o19xs"
      },
      "source": [
        "Looks like on average, with 95% confidence the newer properties are expected to be about 25-50k less than the older properties. It is worth keeping in mind that this is comparing all types of properties within NYC priced between 1k and 5M."
      ]
    },
    {
      "cell_type": "markdown",
      "metadata": {
        "id": "QHXut0RB2ZG6"
      },
      "source": [
        "**Results:** \n",
        "If purchasing any type of property from 1k - 5M price then the best time to purchase will typically be from Q2-Q3. \n",
        "\n",
        "When considering to buy residential or commercial rental properties the residential properties will cost significantly less on average and the best time to buy them is in Q4. Commerical properties will be at their lowest cost on average from Q2-Q3.  \n",
        "\n",
        "When only the age of properties costing between 1k and 5M is being considered the newer properties are slightly lower cost on average, but worth looking more into to see if that's further effected by the type of property."
      ]
    }
  ]
}